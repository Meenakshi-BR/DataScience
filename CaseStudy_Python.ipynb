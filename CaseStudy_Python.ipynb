{
 "cells": [
  {
   "cell_type": "markdown",
   "id": "4f23bcb4",
   "metadata": {},
   "source": [
    "# 1. Bank Account Manager\n"
   ]
  },
  {
   "cell_type": "markdown",
   "id": "3e74dbb9",
   "metadata": {},
   "source": [
    "a. Simulate a bank account with deposit, withdrawal, and balance\n",
    "enquiry operations"
   ]
  },
  {
   "cell_type": "code",
   "execution_count": 22,
   "id": "3efb8556",
   "metadata": {},
   "outputs": [
    {
     "name": "stdout",
     "output_type": "stream",
     "text": [
      "Deposited: 1000\n",
      "New Balance: 1000\n",
      "Withdrew: 500\n",
      "New Balance: 500\n",
      "Current Balance: 500\n"
     ]
    }
   ],
   "source": [
    "balance = 0\n",
    "\n",
    "# Deposit operation\n",
    "deposit_amount = 1000\n",
    "balance += deposit_amount\n",
    "print(f\"Deposited: {deposit_amount}\")\n",
    "print(f\"New Balance: {balance}\")\n",
    "\n",
    "# Withdrawal operation\n",
    "withdraw_amount = 500\n",
    "if withdraw_amount <= balance:\n",
    "    balance -= withdraw_amount\n",
    "    print(f\"Withdrew: {withdraw_amount}\")\n",
    "    print(f\"New Balance: {balance}\")\n",
    "else:\n",
    "    print(\"Insufficient balance\")\n",
    "\n",
    "# Balance enquiry\n",
    "print(f\"Current Balance: {balance}\")\n",
    "    "
   ]
  },
  {
   "cell_type": "markdown",
   "id": "279e474e",
   "metadata": {},
   "source": [
    "b. Use variables and data types to store account information"
   ]
  },
  {
   "cell_type": "code",
   "execution_count": 10,
   "id": "6da4ada4",
   "metadata": {},
   "outputs": [
    {
     "name": "stdout",
     "output_type": "stream",
     "text": [
      "Account Information\n",
      "Account Number: 123456789\n",
      "Account Holder: Meenakshi\n",
      "Account Type: Savings\n"
     ]
    }
   ],
   "source": [
    "account_number = \"123456789\"\n",
    "account_holder = \"Meenakshi\"\n",
    "account_type = \"Savings\"\n",
    "print(\"Account Information\")\n",
    "print(f\"Account Number: {account_number}\")\n",
    "print(f\"Account Holder: {account_holder}\")\n",
    "print(f\"Account Type: {account_type}\")\n"
   ]
  },
  {
   "cell_type": "markdown",
   "id": "6a7b2aa6",
   "metadata": {},
   "source": [
    "c.Implement Conditional Statements to Check for Sufficient Balance Before Withdrawal"
   ]
  },
  {
   "cell_type": "code",
   "execution_count": 16,
   "id": "414a3318",
   "metadata": {},
   "outputs": [
    {
     "name": "stdout",
     "output_type": "stream",
     "text": [
      "Enter amount: 300\n",
      "700\n"
     ]
    }
   ],
   "source": [
    "balance=1000\n",
    "amount=int(input(\"Enter amount: \"))\n",
    "if (balance>amount):\n",
    "    balance-=amount\n",
    "    print(balance)\n",
    "else:\n",
    "    print(\"insufficient balance\")"
   ]
  },
  {
   "cell_type": "markdown",
   "id": "ab264c31",
   "metadata": {},
   "source": [
    "d. Use functions to perform deposit, withdrawal, and balance inquiry\n",
    "operations."
   ]
  },
  {
   "cell_type": "code",
   "execution_count": 34,
   "id": "35d9f25c",
   "metadata": {},
   "outputs": [
    {
     "name": "stdout",
     "output_type": "stream",
     "text": [
      "Deposited Amount: 1000\n",
      "Balance amount: 1000\n",
      "Withdrew: 100\n",
      "Balance Amount: 900\n",
      "Current Balance: 900\n"
     ]
    }
   ],
   "source": [
    "balance=0\n",
    "def deposit(amount):\n",
    "    global balance\n",
    "    balance+=amount\n",
    "    print(f\"Deposited Amount: {amount}\")\n",
    "    print(f\"Balance amount: {balance}\")\n",
    "def withdrawl(amount):\n",
    "    global balance\n",
    "    if balance>amount:\n",
    "        balance-=amount\n",
    "        print(f\"Withdrew: {amount}\")\n",
    "        print(f\"Balance Amount: {balance}\")\n",
    "    else:\n",
    "        print(\"Insufficient balance\")\n",
    "def balance_inquiry():\n",
    "    global balance\n",
    "    print(f\"Current Balance: {balance}\")\n",
    "deposit(1000)\n",
    "withdrawl(100)\n",
    "balance_inquiry()"
   ]
  },
  {
   "cell_type": "markdown",
   "id": "2c2a6e9a",
   "metadata": {},
   "source": [
    "# 2. Weather Data Analyzer"
   ]
  },
  {
   "cell_type": "markdown",
   "id": "2e1473c6",
   "metadata": {},
   "source": [
    "a. Analyze weather data (temperature, humidity, etc.) for a given region"
   ]
  },
  {
   "cell_type": "code",
   "execution_count": 39,
   "id": "8fd7687f",
   "metadata": {},
   "outputs": [
    {
     "name": "stdout",
     "output_type": "stream",
     "text": [
      "Weather Data Analysis for a Given Region\n",
      "Temperature Data: 32 degree celsius\n",
      "Humidity Data:60 %\n"
     ]
    }
   ],
   "source": [
    "print(\"Weather Data Analysis for a Given Region\")\n",
    "print(\"Temperature Data: 32 degree celsius\")\n",
    "print(\"Humidity Data:60 %\")"
   ]
  },
  {
   "cell_type": "markdown",
   "id": "719710cc",
   "metadata": {},
   "source": [
    "b. Use Variables and Data Types to Store Weather Data"
   ]
  },
  {
   "cell_type": "code",
   "execution_count": 40,
   "id": "0c916e01",
   "metadata": {},
   "outputs": [
    {
     "name": "stdout",
     "output_type": "stream",
     "text": [
      "Region: Kollam\n",
      "Temperature Data: 32\n",
      "Humidity Data: 60\n"
     ]
    }
   ],
   "source": [
    "region =\"Kollam\"\n",
    "temperature = 32 \n",
    "humidity = 60    \n",
    "\n",
    "print(f\"Region: {region}\")\n",
    "print(\"Temperature Data:\", temperature)\n",
    "print(\"Humidity Data:\", humidity)"
   ]
  },
  {
   "cell_type": "markdown",
   "id": "1ecf21fe",
   "metadata": {},
   "source": [
    "c. Implement Conditional Statements to Determine Weather Conditions"
   ]
  },
  {
   "cell_type": "code",
   "execution_count": 1,
   "id": "2a802b3e",
   "metadata": {},
   "outputs": [
    {
     "name": "stdout",
     "output_type": "stream",
     "text": [
      "weather condition is:  Sunny and Dry\n"
     ]
    }
   ],
   "source": [
    "temperature=32\n",
    "humidity=60\n",
    "def weather(temperature,humidity):\n",
    "    if temperature > 30:\n",
    "        condition = \"Sunny\"\n",
    "    elif temperature > 20:\n",
    "        condition = \"Cloudy\"\n",
    "    else:\n",
    "        condition = \"Rainy\"\n",
    "    \n",
    "    if humidity > 60:\n",
    "        condition +=\" and Moderate\"\n",
    "    elif humidity > 80:\n",
    "        condition += \" and Humid\"\n",
    "    else:\n",
    "        condition +=\" and Dry\"\n",
    "        return condition\n",
    "weather_condition=weather(temperature,humidity)\n",
    "print(\"weather condition is: \",weather_condition)"
   ]
  },
  {
   "cell_type": "markdown",
   "id": "b1c9b718",
   "metadata": {},
   "source": [
    "d. Use Functions to Calculate Average Temperature and Humidity, and Print Results"
   ]
  },
  {
   "cell_type": "code",
   "execution_count": 9,
   "id": "87439f22",
   "metadata": {},
   "outputs": [
    {
     "name": "stdout",
     "output_type": "stream",
     "text": [
      "Average Temperature: 25.80°C\n",
      "Average Humidity: 67.60%\n"
     ]
    }
   ],
   "source": [
    "def average_temp(data):\n",
    "    avg_temp = sum(data) / len(data)\n",
    "    print(f\"Average Temperature: {avg_temp:.2f}°C\")\n",
    "\n",
    "def average_humidity(data):\n",
    "    avg_hum = sum(data) / len(data)\n",
    "    print(f\"Average Humidity: {avg_hum:.2f}%\")\n",
    "\n",
    "temperature_data = [25, 27, 23, 26, 28]\n",
    "humidity_data = [60, 65, 70, 68, 75]\n",
    "\n",
    "average_temp(temperature_data)\n",
    "average_humidity(humidity_data)\n"
   ]
  },
  {
   "cell_type": "code",
   "execution_count": null,
   "id": "08429426",
   "metadata": {},
   "outputs": [],
   "source": []
  }
 ],
 "metadata": {
  "kernelspec": {
   "display_name": "Python 3 (ipykernel)",
   "language": "python",
   "name": "python3"
  },
  "language_info": {
   "codemirror_mode": {
    "name": "ipython",
    "version": 3
   },
   "file_extension": ".py",
   "mimetype": "text/x-python",
   "name": "python",
   "nbconvert_exporter": "python",
   "pygments_lexer": "ipython3",
   "version": "3.9.16"
  }
 },
 "nbformat": 4,
 "nbformat_minor": 5
}
